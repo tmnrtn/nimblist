{
 "cells": [
  {
   "cell_type": "code",
   "execution_count": 1,
   "id": "4c08b201",
   "metadata": {},
   "outputs": [],
   "source": [
    "import pandas as pd\n",
    "import numpy as np"
   ]
  },
  {
   "cell_type": "code",
   "execution_count": 2,
   "id": "3c7210d1",
   "metadata": {},
   "outputs": [
    {
     "data": {
      "application/vnd.microsoft.datawrangler.viewer.v0+json": {
       "columns": [
        {
         "name": "index",
         "rawType": "int64",
         "type": "integer"
        },
        {
         "name": "parent_category",
         "rawType": "object",
         "type": "string"
        },
        {
         "name": "subcategory",
         "rawType": "object",
         "type": "string"
        },
        {
         "name": "product_id",
         "rawType": "int64",
         "type": "integer"
        },
        {
         "name": "product_name",
         "rawType": "object",
         "type": "string"
        },
        {
         "name": "price",
         "rawType": "object",
         "type": "string"
        },
        {
         "name": "price_per_unit",
         "rawType": "object",
         "type": "string"
        },
        {
         "name": "size",
         "rawType": "object",
         "type": "string"
        },
        {
         "name": "availability",
         "rawType": "object",
         "type": "string"
        },
        {
         "name": "on_offer",
         "rawType": "bool",
         "type": "boolean"
        },
        {
         "name": "product_url",
         "rawType": "object",
         "type": "string"
        },
        {
         "name": "image_url",
         "rawType": "object",
         "type": "string"
        }
       ],
       "conversionMethod": "pd.DataFrame",
       "ref": "b64791c4-d228-4b57-84f2-0239a039fefe",
       "rows": [
        [
         "0",
         "Fresh & Chilled",
         "Fresh Fruit",
         "568810",
         "Waitrose Cantaloupe Melon",
         "£2.90",
         "Price per unit\r\n\r\n£2.90 each",
         "Each",
         "available",
         "True",
         "https://www.waitrose.com/ecom/products/waitrose-cantaloupe-melon/568810-381887-381888",
         "https://ecom-su-static-prod.wtrecom.com/images/products/3/LN_568810_BP_3.jpg"
        ],
        [
         "1",
         "Fresh & Chilled",
         "Fresh Fruit",
         "38528",
         "Waitrose Perfectly Ripe Kiwi",
         "£2.60",
         "Price per unit\r\n\r\n65p each",
         "4s",
         "available",
         "True",
         "https://www.waitrose.com/ecom/products/waitrose-perfectly-ripe-kiwi/038528-19191-19192",
         "https://ecom-su-static-prod.wtrecom.com/images/products/3/LN_038528_BP_3.jpg"
        ],
        [
         "2",
         "Fresh & Chilled",
         "Fresh Fruit",
         "55061",
         "Waitrose Seedless Sable Grapes",
         "£2.48",
         "Price per unit\r\n\r\n£6.20/kg",
         "400g",
         "available",
         "True",
         "https://www.waitrose.com/ecom/products/waitrose-seedless-sable-grapes/055061-27674-27675",
         "https://ecom-su-static-prod.wtrecom.com/images/products/3/LN_055061_BP_3.jpg"
        ],
        [
         "3",
         "Fresh & Chilled",
         "Fresh Fruit",
         "88903",
         "Essential Fairtrade Bananas",
         "20.",
         "Price per unit\r\n\r\n£1.10/kg",
         "Typical weight 0.18kg",
         "available",
         "False",
         "https://www.waitrose.com/ecom/products/essential-fairtrade-bananas/088903-45703-45704",
         "https://ecom-su-static-prod.wtrecom.com/images/products/3/LN_088903_BP_3.jpg"
        ],
        [
         "4",
         "Fresh & Chilled",
         "Fresh Fruit",
         "88528",
         "Essential Fairtrade Bananas",
         "95",
         "Price per unit\r\n\r\n19p each",
         "5s",
         "available",
         "False",
         "https://www.waitrose.com/ecom/products/essential-fairtrade-bananas/088528-45453-45454",
         "https://ecom-su-static-prod.wtrecom.com/images/products/3/LN_088528_BP_3.jpg"
        ]
       ],
       "shape": {
        "columns": 11,
        "rows": 5
       }
      },
      "text/html": [
       "<div>\n",
       "<style scoped>\n",
       "    .dataframe tbody tr th:only-of-type {\n",
       "        vertical-align: middle;\n",
       "    }\n",
       "\n",
       "    .dataframe tbody tr th {\n",
       "        vertical-align: top;\n",
       "    }\n",
       "\n",
       "    .dataframe thead th {\n",
       "        text-align: right;\n",
       "    }\n",
       "</style>\n",
       "<table border=\"1\" class=\"dataframe\">\n",
       "  <thead>\n",
       "    <tr style=\"text-align: right;\">\n",
       "      <th></th>\n",
       "      <th>parent_category</th>\n",
       "      <th>subcategory</th>\n",
       "      <th>product_id</th>\n",
       "      <th>product_name</th>\n",
       "      <th>price</th>\n",
       "      <th>price_per_unit</th>\n",
       "      <th>size</th>\n",
       "      <th>availability</th>\n",
       "      <th>on_offer</th>\n",
       "      <th>product_url</th>\n",
       "      <th>image_url</th>\n",
       "    </tr>\n",
       "  </thead>\n",
       "  <tbody>\n",
       "    <tr>\n",
       "      <th>0</th>\n",
       "      <td>Fresh &amp; Chilled</td>\n",
       "      <td>Fresh Fruit</td>\n",
       "      <td>568810</td>\n",
       "      <td>Waitrose Cantaloupe Melon</td>\n",
       "      <td>£2.90</td>\n",
       "      <td>Price per unit\\r\\n\\r\\n£2.90 each</td>\n",
       "      <td>Each</td>\n",
       "      <td>available</td>\n",
       "      <td>True</td>\n",
       "      <td>https://www.waitrose.com/ecom/products/waitros...</td>\n",
       "      <td>https://ecom-su-static-prod.wtrecom.com/images...</td>\n",
       "    </tr>\n",
       "    <tr>\n",
       "      <th>1</th>\n",
       "      <td>Fresh &amp; Chilled</td>\n",
       "      <td>Fresh Fruit</td>\n",
       "      <td>38528</td>\n",
       "      <td>Waitrose Perfectly Ripe Kiwi</td>\n",
       "      <td>£2.60</td>\n",
       "      <td>Price per unit\\r\\n\\r\\n65p each</td>\n",
       "      <td>4s</td>\n",
       "      <td>available</td>\n",
       "      <td>True</td>\n",
       "      <td>https://www.waitrose.com/ecom/products/waitros...</td>\n",
       "      <td>https://ecom-su-static-prod.wtrecom.com/images...</td>\n",
       "    </tr>\n",
       "    <tr>\n",
       "      <th>2</th>\n",
       "      <td>Fresh &amp; Chilled</td>\n",
       "      <td>Fresh Fruit</td>\n",
       "      <td>55061</td>\n",
       "      <td>Waitrose Seedless Sable Grapes</td>\n",
       "      <td>£2.48</td>\n",
       "      <td>Price per unit\\r\\n\\r\\n£6.20/kg</td>\n",
       "      <td>400g</td>\n",
       "      <td>available</td>\n",
       "      <td>True</td>\n",
       "      <td>https://www.waitrose.com/ecom/products/waitros...</td>\n",
       "      <td>https://ecom-su-static-prod.wtrecom.com/images...</td>\n",
       "    </tr>\n",
       "    <tr>\n",
       "      <th>3</th>\n",
       "      <td>Fresh &amp; Chilled</td>\n",
       "      <td>Fresh Fruit</td>\n",
       "      <td>88903</td>\n",
       "      <td>Essential Fairtrade Bananas</td>\n",
       "      <td>20.</td>\n",
       "      <td>Price per unit\\r\\n\\r\\n£1.10/kg</td>\n",
       "      <td>Typical weight 0.18kg</td>\n",
       "      <td>available</td>\n",
       "      <td>False</td>\n",
       "      <td>https://www.waitrose.com/ecom/products/essenti...</td>\n",
       "      <td>https://ecom-su-static-prod.wtrecom.com/images...</td>\n",
       "    </tr>\n",
       "    <tr>\n",
       "      <th>4</th>\n",
       "      <td>Fresh &amp; Chilled</td>\n",
       "      <td>Fresh Fruit</td>\n",
       "      <td>88528</td>\n",
       "      <td>Essential Fairtrade Bananas</td>\n",
       "      <td>95</td>\n",
       "      <td>Price per unit\\r\\n\\r\\n19p each</td>\n",
       "      <td>5s</td>\n",
       "      <td>available</td>\n",
       "      <td>False</td>\n",
       "      <td>https://www.waitrose.com/ecom/products/essenti...</td>\n",
       "      <td>https://ecom-su-static-prod.wtrecom.com/images...</td>\n",
       "    </tr>\n",
       "  </tbody>\n",
       "</table>\n",
       "</div>"
      ],
      "text/plain": [
       "   parent_category  subcategory  product_id                    product_name  \\\n",
       "0  Fresh & Chilled  Fresh Fruit      568810       Waitrose Cantaloupe Melon   \n",
       "1  Fresh & Chilled  Fresh Fruit       38528    Waitrose Perfectly Ripe Kiwi   \n",
       "2  Fresh & Chilled  Fresh Fruit       55061  Waitrose Seedless Sable Grapes   \n",
       "3  Fresh & Chilled  Fresh Fruit       88903     Essential Fairtrade Bananas   \n",
       "4  Fresh & Chilled  Fresh Fruit       88528     Essential Fairtrade Bananas   \n",
       "\n",
       "   price                    price_per_unit                   size  \\\n",
       "0  £2.90  Price per unit\\r\\n\\r\\n£2.90 each                   Each   \n",
       "1  £2.60    Price per unit\\r\\n\\r\\n65p each                     4s   \n",
       "2  £2.48    Price per unit\\r\\n\\r\\n£6.20/kg                   400g   \n",
       "3    20.    Price per unit\\r\\n\\r\\n£1.10/kg  Typical weight 0.18kg   \n",
       "4     95    Price per unit\\r\\n\\r\\n19p each                     5s   \n",
       "\n",
       "  availability  on_offer                                        product_url  \\\n",
       "0    available      True  https://www.waitrose.com/ecom/products/waitros...   \n",
       "1    available      True  https://www.waitrose.com/ecom/products/waitros...   \n",
       "2    available      True  https://www.waitrose.com/ecom/products/waitros...   \n",
       "3    available     False  https://www.waitrose.com/ecom/products/essenti...   \n",
       "4    available     False  https://www.waitrose.com/ecom/products/essenti...   \n",
       "\n",
       "                                           image_url  \n",
       "0  https://ecom-su-static-prod.wtrecom.com/images...  \n",
       "1  https://ecom-su-static-prod.wtrecom.com/images...  \n",
       "2  https://ecom-su-static-prod.wtrecom.com/images...  \n",
       "3  https://ecom-su-static-prod.wtrecom.com/images...  \n",
       "4  https://ecom-su-static-prod.wtrecom.com/images...  "
      ]
     },
     "execution_count": 2,
     "metadata": {},
     "output_type": "execute_result"
    }
   ],
   "source": [
    "# This script reads a CSV file containing product data from Waitrose and displays basic information about the dataset.\n",
    "waitrose_df = pd.read_csv('./Waitrose/waitrose_products_playwright.csv')\n",
    "\n",
    "waitrose_df.head()  # Display the first few rows of the DataFrame\n"
   ]
  },
  {
   "cell_type": "code",
   "execution_count": 3,
   "id": "3cb9648d",
   "metadata": {},
   "outputs": [
    {
     "name": "stdout",
     "output_type": "stream",
     "text": [
      "Shape before concat duplicates: (31331, 16)\n",
      "Shape before removing duplicates: (37541, 16)\n",
      "Shape after removing duplicates: (32522, 16)\n"
     ]
    },
    {
     "data": {
      "application/vnd.microsoft.datawrangler.viewer.v0+json": {
       "columns": [
        {
         "name": "index",
         "rawType": "int64",
         "type": "integer"
        },
        {
         "name": "product_id",
         "rawType": "int64",
         "type": "integer"
        },
        {
         "name": "product_name",
         "rawType": "object",
         "type": "string"
        },
        {
         "name": "standard_price",
         "rawType": "object",
         "type": "string"
        },
        {
         "name": "price_per_unit",
         "rawType": "object",
         "type": "string"
        },
        {
         "name": "clubcard_price",
         "rawType": "object",
         "type": "unknown"
        },
        {
         "name": "clubcard_price_per_unit",
         "rawType": "object",
         "type": "unknown"
        },
        {
         "name": "has_clubcard_offer",
         "rawType": "bool",
         "type": "boolean"
        },
        {
         "name": "offer_dates",
         "rawType": "object",
         "type": "unknown"
        },
        {
         "name": "other_promotion",
         "rawType": "bool",
         "type": "boolean"
        },
        {
         "name": "rating",
         "rawType": "float64",
         "type": "float"
        },
        {
         "name": "review_count",
         "rawType": "float64",
         "type": "float"
        },
        {
         "name": "is_sponsored",
         "rawType": "bool",
         "type": "boolean"
        },
        {
         "name": "product_url",
         "rawType": "object",
         "type": "string"
        },
        {
         "name": "image_url",
         "rawType": "object",
         "type": "string"
        },
        {
         "name": "parent_category",
         "rawType": "object",
         "type": "string"
        },
        {
         "name": "subcategory",
         "rawType": "object",
         "type": "string"
        }
       ],
       "conversionMethod": "pd.DataFrame",
       "ref": "ed8d1913-66a8-40bc-afdc-9a0a1789a6f9",
       "rows": [
        [
         "0",
         "284477542",
         "Tesco Pink Lady Apples 5 Pack",
         "£2.80",
         "£0.56/each",
         "£2.50 Clubcard Price",
         "(£0.50/each)",
         "True",
         "Offer valid for delivery from 08/04/2025 until 21/04/2025",
         "False",
         "2.8",
         "143.0",
         "False",
         "https://www.tesco.com/groceries/en-GB/products/284477542",
         "https://digitalcontent.api.tesco.com/v2/media/ghs/359bd6ef-f3da-4479-a2b6-55828527b989/7db2cef7-57a3-48fb-a76a-f7e897125892.jpeg?h=225&w=225",
         "Fresh Food",
         "Fresh Fruit"
        ],
        [
         "1",
         "288115395",
         "Tesco Finest Sweet Easy Peelers 600g",
         "£2.20",
         "£3.67/kg",
         null,
         null,
         "False",
         null,
         "False",
         "2.6",
         "158.0",
         "False",
         "https://www.tesco.com/groceries/en-GB/products/288115395",
         "https://digitalcontent.api.tesco.com/v2/media/ghs/d61ee4b1-ee2d-4dc0-84c8-94a47a78ab7e/ae1f44ed-a3af-4117-b3f0-92ffcec97f28.jpeg?h=225&w=225",
         "Fresh Food",
         "Fresh Fruit"
        ],
        [
         "2",
         "288135169",
         "Jaffa Easy Peelers 600g",
         "£2.00",
         "£3.33/kg",
         null,
         null,
         "False",
         null,
         "False",
         "2.4",
         "334.0",
         "False",
         "https://www.tesco.com/groceries/en-GB/products/288135169",
         "https://digitalcontent.api.tesco.com/v2/media/ghs/fc28a0be-188d-4e45-b3c6-86f9276dc7df/098acab5-2f2a-4460-831e-7b628a71dfc1.jpeg?h=225&w=225",
         "Fresh Food",
         "Fresh Fruit"
        ],
        [
         "3",
         "284475227",
         "Tesco Conference Pears Pack 610G",
         "£1.75",
         "£2.87/kg",
         null,
         null,
         "False",
         null,
         "False",
         null,
         "161.0",
         "False",
         "https://www.tesco.com/groceries/en-GB/products/284475227",
         "https://digitalcontent.api.tesco.com/v2/media/ghs/33b1dca2-6911-4306-ad59-262d1c479cf3/d22e6bf0-a30a-4a91-ad78-c732f892b9a7.jpeg?h=225&w=225",
         "Fresh Food",
         "Fresh Fruit"
        ],
        [
         "4",
         "305831903",
         "Rosedene Farms Gala Apples 6 Pack",
         "£1.49",
         "£0.25/each",
         null,
         null,
         "False",
         null,
         "False",
         "3.2",
         "75.0",
         "False",
         "https://www.tesco.com/groceries/en-GB/products/305831903",
         "https://digitalcontent.api.tesco.com/v2/media/ghs/a7f2102d-3219-450b-9fb5-cfa81946f98a/ffa87498-e71c-4c2d-b633-03426153c7f3.jpeg?h=225&w=225",
         "Fresh Food",
         "Fresh Fruit"
        ]
       ],
       "shape": {
        "columns": 16,
        "rows": 5
       }
      },
      "text/html": [
       "<div>\n",
       "<style scoped>\n",
       "    .dataframe tbody tr th:only-of-type {\n",
       "        vertical-align: middle;\n",
       "    }\n",
       "\n",
       "    .dataframe tbody tr th {\n",
       "        vertical-align: top;\n",
       "    }\n",
       "\n",
       "    .dataframe thead th {\n",
       "        text-align: right;\n",
       "    }\n",
       "</style>\n",
       "<table border=\"1\" class=\"dataframe\">\n",
       "  <thead>\n",
       "    <tr style=\"text-align: right;\">\n",
       "      <th></th>\n",
       "      <th>product_id</th>\n",
       "      <th>product_name</th>\n",
       "      <th>standard_price</th>\n",
       "      <th>price_per_unit</th>\n",
       "      <th>clubcard_price</th>\n",
       "      <th>clubcard_price_per_unit</th>\n",
       "      <th>has_clubcard_offer</th>\n",
       "      <th>offer_dates</th>\n",
       "      <th>other_promotion</th>\n",
       "      <th>rating</th>\n",
       "      <th>review_count</th>\n",
       "      <th>is_sponsored</th>\n",
       "      <th>product_url</th>\n",
       "      <th>image_url</th>\n",
       "      <th>parent_category</th>\n",
       "      <th>subcategory</th>\n",
       "    </tr>\n",
       "  </thead>\n",
       "  <tbody>\n",
       "    <tr>\n",
       "      <th>0</th>\n",
       "      <td>284477542</td>\n",
       "      <td>Tesco Pink Lady Apples 5 Pack</td>\n",
       "      <td>£2.80</td>\n",
       "      <td>£0.56/each</td>\n",
       "      <td>£2.50 Clubcard Price</td>\n",
       "      <td>(£0.50/each)</td>\n",
       "      <td>True</td>\n",
       "      <td>Offer valid for delivery from 08/04/2025 until...</td>\n",
       "      <td>False</td>\n",
       "      <td>2.8</td>\n",
       "      <td>143.0</td>\n",
       "      <td>False</td>\n",
       "      <td>https://www.tesco.com/groceries/en-GB/products...</td>\n",
       "      <td>https://digitalcontent.api.tesco.com/v2/media/...</td>\n",
       "      <td>Fresh Food</td>\n",
       "      <td>Fresh Fruit</td>\n",
       "    </tr>\n",
       "    <tr>\n",
       "      <th>1</th>\n",
       "      <td>288115395</td>\n",
       "      <td>Tesco Finest Sweet Easy Peelers 600g</td>\n",
       "      <td>£2.20</td>\n",
       "      <td>£3.67/kg</td>\n",
       "      <td>NaN</td>\n",
       "      <td>NaN</td>\n",
       "      <td>False</td>\n",
       "      <td>NaN</td>\n",
       "      <td>False</td>\n",
       "      <td>2.6</td>\n",
       "      <td>158.0</td>\n",
       "      <td>False</td>\n",
       "      <td>https://www.tesco.com/groceries/en-GB/products...</td>\n",
       "      <td>https://digitalcontent.api.tesco.com/v2/media/...</td>\n",
       "      <td>Fresh Food</td>\n",
       "      <td>Fresh Fruit</td>\n",
       "    </tr>\n",
       "    <tr>\n",
       "      <th>2</th>\n",
       "      <td>288135169</td>\n",
       "      <td>Jaffa Easy Peelers 600g</td>\n",
       "      <td>£2.00</td>\n",
       "      <td>£3.33/kg</td>\n",
       "      <td>NaN</td>\n",
       "      <td>NaN</td>\n",
       "      <td>False</td>\n",
       "      <td>NaN</td>\n",
       "      <td>False</td>\n",
       "      <td>2.4</td>\n",
       "      <td>334.0</td>\n",
       "      <td>False</td>\n",
       "      <td>https://www.tesco.com/groceries/en-GB/products...</td>\n",
       "      <td>https://digitalcontent.api.tesco.com/v2/media/...</td>\n",
       "      <td>Fresh Food</td>\n",
       "      <td>Fresh Fruit</td>\n",
       "    </tr>\n",
       "    <tr>\n",
       "      <th>3</th>\n",
       "      <td>284475227</td>\n",
       "      <td>Tesco Conference Pears Pack 610G</td>\n",
       "      <td>£1.75</td>\n",
       "      <td>£2.87/kg</td>\n",
       "      <td>NaN</td>\n",
       "      <td>NaN</td>\n",
       "      <td>False</td>\n",
       "      <td>NaN</td>\n",
       "      <td>False</td>\n",
       "      <td>NaN</td>\n",
       "      <td>161.0</td>\n",
       "      <td>False</td>\n",
       "      <td>https://www.tesco.com/groceries/en-GB/products...</td>\n",
       "      <td>https://digitalcontent.api.tesco.com/v2/media/...</td>\n",
       "      <td>Fresh Food</td>\n",
       "      <td>Fresh Fruit</td>\n",
       "    </tr>\n",
       "    <tr>\n",
       "      <th>4</th>\n",
       "      <td>305831903</td>\n",
       "      <td>Rosedene Farms Gala Apples 6 Pack</td>\n",
       "      <td>£1.49</td>\n",
       "      <td>£0.25/each</td>\n",
       "      <td>NaN</td>\n",
       "      <td>NaN</td>\n",
       "      <td>False</td>\n",
       "      <td>NaN</td>\n",
       "      <td>False</td>\n",
       "      <td>3.2</td>\n",
       "      <td>75.0</td>\n",
       "      <td>False</td>\n",
       "      <td>https://www.tesco.com/groceries/en-GB/products...</td>\n",
       "      <td>https://digitalcontent.api.tesco.com/v2/media/...</td>\n",
       "      <td>Fresh Food</td>\n",
       "      <td>Fresh Fruit</td>\n",
       "    </tr>\n",
       "  </tbody>\n",
       "</table>\n",
       "</div>"
      ],
      "text/plain": [
       "   product_id                          product_name standard_price  \\\n",
       "0   284477542         Tesco Pink Lady Apples 5 Pack          £2.80   \n",
       "1   288115395  Tesco Finest Sweet Easy Peelers 600g          £2.20   \n",
       "2   288135169               Jaffa Easy Peelers 600g          £2.00   \n",
       "3   284475227      Tesco Conference Pears Pack 610G          £1.75   \n",
       "4   305831903     Rosedene Farms Gala Apples 6 Pack          £1.49   \n",
       "\n",
       "  price_per_unit        clubcard_price clubcard_price_per_unit  \\\n",
       "0     £0.56/each  £2.50 Clubcard Price            (£0.50/each)   \n",
       "1       £3.67/kg                   NaN                     NaN   \n",
       "2       £3.33/kg                   NaN                     NaN   \n",
       "3       £2.87/kg                   NaN                     NaN   \n",
       "4     £0.25/each                   NaN                     NaN   \n",
       "\n",
       "   has_clubcard_offer                                        offer_dates  \\\n",
       "0                True  Offer valid for delivery from 08/04/2025 until...   \n",
       "1               False                                                NaN   \n",
       "2               False                                                NaN   \n",
       "3               False                                                NaN   \n",
       "4               False                                                NaN   \n",
       "\n",
       "   other_promotion  rating  review_count  is_sponsored  \\\n",
       "0            False     2.8         143.0         False   \n",
       "1            False     2.6         158.0         False   \n",
       "2            False     2.4         334.0         False   \n",
       "3            False     NaN         161.0         False   \n",
       "4            False     3.2          75.0         False   \n",
       "\n",
       "                                         product_url  \\\n",
       "0  https://www.tesco.com/groceries/en-GB/products...   \n",
       "1  https://www.tesco.com/groceries/en-GB/products...   \n",
       "2  https://www.tesco.com/groceries/en-GB/products...   \n",
       "3  https://www.tesco.com/groceries/en-GB/products...   \n",
       "4  https://www.tesco.com/groceries/en-GB/products...   \n",
       "\n",
       "                                           image_url parent_category  \\\n",
       "0  https://digitalcontent.api.tesco.com/v2/media/...      Fresh Food   \n",
       "1  https://digitalcontent.api.tesco.com/v2/media/...      Fresh Food   \n",
       "2  https://digitalcontent.api.tesco.com/v2/media/...      Fresh Food   \n",
       "3  https://digitalcontent.api.tesco.com/v2/media/...      Fresh Food   \n",
       "4  https://digitalcontent.api.tesco.com/v2/media/...      Fresh Food   \n",
       "\n",
       "   subcategory  \n",
       "0  Fresh Fruit  \n",
       "1  Fresh Fruit  \n",
       "2  Fresh Fruit  \n",
       "3  Fresh Fruit  \n",
       "4  Fresh Fruit  "
      ]
     },
     "execution_count": 3,
     "metadata": {},
     "output_type": "execute_result"
    }
   ],
   "source": [
    "# This script reads a CSV file containing product data from Tesco and displays basic information about the dataset.\n",
    "tesco_df = pd.read_csv('./Tesco/tesco_products_playwright.csv')\n",
    "tesco_fc_df = pd.read_csv('./Tesco/tesco_products_food-cupboard_playwright.csv')\n",
    "\n",
    "print(f\"Shape before concat duplicates: {tesco_df.shape}\")\n",
    "\n",
    "tesco_df = pd.concat([tesco_df, tesco_fc_df], ignore_index=True)\n",
    "print(f\"Shape before removing duplicates: {tesco_df.shape}\")\n",
    "# Drop duplicate products based on product_id\n",
    "tesco_df.drop_duplicates(subset=['product_id', 'parent_category', 'subcategory'], keep='first', inplace=True)\n",
    "\n",
    "# Display information about the dataframe after removing duplicates\n",
    "print(f\"Shape after removing duplicates: {tesco_df.shape}\")\n",
    "\n",
    "tesco_df.head()\n"
   ]
  },
  {
   "cell_type": "code",
   "execution_count": 4,
   "id": "4238c397",
   "metadata": {},
   "outputs": [
    {
     "name": "stdout",
     "output_type": "stream",
     "text": [
      "Combined shape: (58121, 5)\n",
      "Number of Waitrose products: 25599\n",
      "Number of Tesco products: 32522\n"
     ]
    }
   ],
   "source": [
    "# Create a copy of both dataframes with the needed columns and add source column\n",
    "waitrose_subset = waitrose_df[['product_id', 'product_name', 'parent_category', 'subcategory']].copy()\n",
    "waitrose_subset['source'] = 'Waitrose'\n",
    "\n",
    "tesco_subset = tesco_df[['product_id', 'product_name', 'parent_category', 'subcategory']].copy()\n",
    "tesco_subset['source'] = 'Tesco'\n",
    "\n",
    "# Combine the dataframes\n",
    "combined_df = pd.concat([waitrose_subset, tesco_subset], ignore_index=True)\n",
    "\n",
    "# Display the first few rows to verify\n",
    "combined_df.head()\n",
    "\n",
    "# Display some basic info about the combined dataframe\n",
    "print(f\"Combined shape: {combined_df.shape}\")\n",
    "print(f\"Number of Waitrose products: {len(waitrose_subset)}\")\n",
    "print(f\"Number of Tesco products: {len(tesco_subset)}\")"
   ]
  },
  {
   "cell_type": "code",
   "execution_count": 5,
   "id": "fb34f07b",
   "metadata": {},
   "outputs": [
    {
     "data": {
      "application/vnd.microsoft.datawrangler.viewer.v0+json": {
       "columns": [
        {
         "name": "index",
         "rawType": "int64",
         "type": "integer"
        },
        {
         "name": "product_id",
         "rawType": "int64",
         "type": "integer"
        },
        {
         "name": "product_name",
         "rawType": "object",
         "type": "string"
        },
        {
         "name": "parent_category",
         "rawType": "object",
         "type": "string"
        },
        {
         "name": "subcategory",
         "rawType": "object",
         "type": "string"
        },
        {
         "name": "source",
         "rawType": "object",
         "type": "string"
        },
        {
         "name": "cleaned_product_name",
         "rawType": "object",
         "type": "string"
        },
        {
         "name": "newCat",
         "rawType": "object",
         "type": "string"
        },
        {
         "name": "newSubCat",
         "rawType": "object",
         "type": "string"
        }
       ],
       "conversionMethod": "pd.DataFrame",
       "ref": "ec7d5123-9543-4938-99b3-c56a72b60838",
       "rows": [
        [
         "0",
         "568810",
         "Waitrose Cantaloupe Melon",
         "Fresh & Chilled",
         "Fresh Fruit",
         "Waitrose",
         "Waitrose Cantaloupe Melon",
         "",
         ""
        ],
        [
         "1",
         "38528",
         "Waitrose Perfectly Ripe Kiwi",
         "Fresh & Chilled",
         "Fresh Fruit",
         "Waitrose",
         "Waitrose Perfectly Ripe Kiwi",
         "",
         ""
        ],
        [
         "2",
         "55061",
         "Waitrose Seedless Sable Grapes",
         "Fresh & Chilled",
         "Fresh Fruit",
         "Waitrose",
         "Waitrose Seedless Sable Grapes",
         "",
         ""
        ],
        [
         "3",
         "88903",
         "Essential Fairtrade Bananas",
         "Fresh & Chilled",
         "Fresh Fruit",
         "Waitrose",
         "Essential Fairtrade Bananas",
         "",
         ""
        ],
        [
         "4",
         "88528",
         "Essential Fairtrade Bananas",
         "Fresh & Chilled",
         "Fresh Fruit",
         "Waitrose",
         "Essential Fairtrade Bananas",
         "",
         ""
        ]
       ],
       "shape": {
        "columns": 8,
        "rows": 5
       }
      },
      "text/html": [
       "<div>\n",
       "<style scoped>\n",
       "    .dataframe tbody tr th:only-of-type {\n",
       "        vertical-align: middle;\n",
       "    }\n",
       "\n",
       "    .dataframe tbody tr th {\n",
       "        vertical-align: top;\n",
       "    }\n",
       "\n",
       "    .dataframe thead th {\n",
       "        text-align: right;\n",
       "    }\n",
       "</style>\n",
       "<table border=\"1\" class=\"dataframe\">\n",
       "  <thead>\n",
       "    <tr style=\"text-align: right;\">\n",
       "      <th></th>\n",
       "      <th>product_id</th>\n",
       "      <th>product_name</th>\n",
       "      <th>parent_category</th>\n",
       "      <th>subcategory</th>\n",
       "      <th>source</th>\n",
       "      <th>cleaned_product_name</th>\n",
       "      <th>newCat</th>\n",
       "      <th>newSubCat</th>\n",
       "    </tr>\n",
       "  </thead>\n",
       "  <tbody>\n",
       "    <tr>\n",
       "      <th>0</th>\n",
       "      <td>568810</td>\n",
       "      <td>Waitrose Cantaloupe Melon</td>\n",
       "      <td>Fresh &amp; Chilled</td>\n",
       "      <td>Fresh Fruit</td>\n",
       "      <td>Waitrose</td>\n",
       "      <td>Waitrose Cantaloupe Melon</td>\n",
       "      <td></td>\n",
       "      <td></td>\n",
       "    </tr>\n",
       "    <tr>\n",
       "      <th>1</th>\n",
       "      <td>38528</td>\n",
       "      <td>Waitrose Perfectly Ripe Kiwi</td>\n",
       "      <td>Fresh &amp; Chilled</td>\n",
       "      <td>Fresh Fruit</td>\n",
       "      <td>Waitrose</td>\n",
       "      <td>Waitrose Perfectly Ripe Kiwi</td>\n",
       "      <td></td>\n",
       "      <td></td>\n",
       "    </tr>\n",
       "    <tr>\n",
       "      <th>2</th>\n",
       "      <td>55061</td>\n",
       "      <td>Waitrose Seedless Sable Grapes</td>\n",
       "      <td>Fresh &amp; Chilled</td>\n",
       "      <td>Fresh Fruit</td>\n",
       "      <td>Waitrose</td>\n",
       "      <td>Waitrose Seedless Sable Grapes</td>\n",
       "      <td></td>\n",
       "      <td></td>\n",
       "    </tr>\n",
       "    <tr>\n",
       "      <th>3</th>\n",
       "      <td>88903</td>\n",
       "      <td>Essential Fairtrade Bananas</td>\n",
       "      <td>Fresh &amp; Chilled</td>\n",
       "      <td>Fresh Fruit</td>\n",
       "      <td>Waitrose</td>\n",
       "      <td>Essential Fairtrade Bananas</td>\n",
       "      <td></td>\n",
       "      <td></td>\n",
       "    </tr>\n",
       "    <tr>\n",
       "      <th>4</th>\n",
       "      <td>88528</td>\n",
       "      <td>Essential Fairtrade Bananas</td>\n",
       "      <td>Fresh &amp; Chilled</td>\n",
       "      <td>Fresh Fruit</td>\n",
       "      <td>Waitrose</td>\n",
       "      <td>Essential Fairtrade Bananas</td>\n",
       "      <td></td>\n",
       "      <td></td>\n",
       "    </tr>\n",
       "  </tbody>\n",
       "</table>\n",
       "</div>"
      ],
      "text/plain": [
       "   product_id                    product_name  parent_category  subcategory  \\\n",
       "0      568810       Waitrose Cantaloupe Melon  Fresh & Chilled  Fresh Fruit   \n",
       "1       38528    Waitrose Perfectly Ripe Kiwi  Fresh & Chilled  Fresh Fruit   \n",
       "2       55061  Waitrose Seedless Sable Grapes  Fresh & Chilled  Fresh Fruit   \n",
       "3       88903     Essential Fairtrade Bananas  Fresh & Chilled  Fresh Fruit   \n",
       "4       88528     Essential Fairtrade Bananas  Fresh & Chilled  Fresh Fruit   \n",
       "\n",
       "     source            cleaned_product_name newCat newSubCat  \n",
       "0  Waitrose       Waitrose Cantaloupe Melon                   \n",
       "1  Waitrose    Waitrose Perfectly Ripe Kiwi                   \n",
       "2  Waitrose  Waitrose Seedless Sable Grapes                   \n",
       "3  Waitrose     Essential Fairtrade Bananas                   \n",
       "4  Waitrose     Essential Fairtrade Bananas                   "
      ]
     },
     "execution_count": 5,
     "metadata": {},
     "output_type": "execute_result"
    }
   ],
   "source": [
    "combined_df['cleaned_product_name'] = combined_df['product_name'].str.replace(r'\\s+', ' ', regex=True).str.strip()\n",
    "combined_df['newCat'] = ''\n",
    "combined_df['newSubCat'] = ''\n",
    "\n",
    "combined_df.head()"
   ]
  },
  {
   "cell_type": "code",
   "execution_count": null,
   "id": "60e2bdc2",
   "metadata": {},
   "outputs": [],
   "source": [
    "combined_df.to_csv('./combined_cleaned.csv', index=False)\n"
   ]
  }
 ],
 "metadata": {
  "kernelspec": {
   "display_name": ".venv",
   "language": "python",
   "name": "python3"
  },
  "language_info": {
   "codemirror_mode": {
    "name": "ipython",
    "version": 3
   },
   "file_extension": ".py",
   "mimetype": "text/x-python",
   "name": "python",
   "nbconvert_exporter": "python",
   "pygments_lexer": "ipython3",
   "version": "3.12.10"
  }
 },
 "nbformat": 4,
 "nbformat_minor": 5
}
