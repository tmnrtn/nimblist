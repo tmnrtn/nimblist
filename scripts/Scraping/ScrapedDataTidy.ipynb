{
 "cells": [
  {
   "cell_type": "code",
   "execution_count": null,
   "id": "4c08b201",
   "metadata": {},
   "outputs": [],
   "source": [
    "import pandas as pd"
   ]
  },
  {
   "cell_type": "code",
   "execution_count": null,
   "id": "3c7210d1",
   "metadata": {},
   "outputs": [],
   "source": [
    "# This script reads a CSV file containing product data from Waitrose and displays basic information about the dataset.\n",
    "waitrose_df = pd.read_csv('./Waitrose/waitrose_products_playwright.csv')\n",
    "\n",
    "waitrose_df.head()  # Display the first few rows of the DataFrame\n"
   ]
  },
  {
   "cell_type": "code",
   "execution_count": null,
   "id": "3cb9648d",
   "metadata": {},
   "outputs": [],
   "source": [
    "# This script reads a CSV file containing product data from Tesco and displays basic information about the dataset.\n",
    "tesco_df = pd.read_csv('./Tesco/tesco_products_playwright.csv')\n",
    "tesco_fc_df = pd.read_csv('./Tesco/tesco_products_food-cupboard_playwright.csv')\n",
    "\n",
    "print(f\"Shape before concat duplicates: {tesco_df.shape}\")\n",
    "\n",
    "tesco_df = pd.concat([tesco_df, tesco_fc_df], ignore_index=True)\n",
    "print(f\"Shape before removing duplicates: {tesco_df.shape}\")\n",
    "# Drop duplicate products based on product_id\n",
    "tesco_df.drop_duplicates(subset=['product_id', 'parent_category', 'subcategory'], keep='first', inplace=True)\n",
    "\n",
    "# Display information about the dataframe after removing duplicates\n",
    "print(f\"Shape after removing duplicates: {tesco_df.shape}\")\n",
    "\n",
    "tesco_df.head()\n"
   ]
  },
  {
   "cell_type": "code",
   "execution_count": null,
   "id": "4238c397",
   "metadata": {},
   "outputs": [],
   "source": [
    "# Create a copy of both dataframes with the needed columns and add source column\n",
    "waitrose_subset = waitrose_df[['product_id', 'product_name', 'parent_category', 'subcategory']].copy()\n",
    "waitrose_subset['source'] = 'Waitrose'\n",
    "\n",
    "tesco_subset = tesco_df[['product_id', 'product_name', 'parent_category', 'subcategory']].copy()\n",
    "tesco_subset['source'] = 'Tesco'\n",
    "\n",
    "# Combine the dataframes\n",
    "combined_df = pd.concat([waitrose_subset, tesco_subset], ignore_index=True)\n",
    "\n",
    "# Display the first few rows to verify\n",
    "combined_df.head()\n",
    "\n",
    "# Display some basic info about the combined dataframe\n",
    "print(f\"Combined shape: {combined_df.shape}\")\n",
    "print(f\"Number of Waitrose products: {len(waitrose_subset)}\")\n",
    "print(f\"Number of Tesco products: {len(tesco_subset)}\")"
   ]
  },
  {
   "cell_type": "code",
   "execution_count": 21,
   "id": "fb34f07b",
   "metadata": {},
   "outputs": [
    {
     "data": {
      "application/vnd.microsoft.datawrangler.viewer.v0+json": {
       "columns": [
        {
         "name": "index",
         "rawType": "int64",
         "type": "integer"
        },
        {
         "name": "product_id",
         "rawType": "int64",
         "type": "integer"
        },
        {
         "name": "product_name",
         "rawType": "object",
         "type": "string"
        },
        {
         "name": "parent_category",
         "rawType": "object",
         "type": "string"
        },
        {
         "name": "subcategory",
         "rawType": "object",
         "type": "string"
        },
        {
         "name": "source",
         "rawType": "object",
         "type": "string"
        },
        {
         "name": "cleaned_product_name",
         "rawType": "object",
         "type": "string"
        },
        {
         "name": "newCat",
         "rawType": "object",
         "type": "string"
        },
        {
         "name": "newSubCat",
         "rawType": "object",
         "type": "string"
        }
       ],
       "conversionMethod": "pd.DataFrame",
       "ref": "77b6ff71-6145-486b-bceb-7c80f6aa459c",
       "rows": [
        [
         "0",
         "568810",
         "Waitrose Cantaloupe Melon",
         "Fresh & Chilled",
         "Fresh Fruit",
         "Waitrose",
         "Waitrose Cantaloupe Melon",
         "",
         ""
        ],
        [
         "1",
         "38528",
         "Waitrose Perfectly Ripe Kiwi",
         "Fresh & Chilled",
         "Fresh Fruit",
         "Waitrose",
         "Waitrose Perfectly Ripe Kiwi",
         "",
         ""
        ],
        [
         "2",
         "55061",
         "Waitrose Seedless Sable Grapes",
         "Fresh & Chilled",
         "Fresh Fruit",
         "Waitrose",
         "Waitrose Seedless Sable Grapes",
         "",
         ""
        ],
        [
         "3",
         "88903",
         "Essential Fairtrade Bananas",
         "Fresh & Chilled",
         "Fresh Fruit",
         "Waitrose",
         "Essential Fairtrade Bananas",
         "",
         ""
        ],
        [
         "4",
         "88528",
         "Essential Fairtrade Bananas",
         "Fresh & Chilled",
         "Fresh Fruit",
         "Waitrose",
         "Essential Fairtrade Bananas",
         "",
         ""
        ]
       ],
       "shape": {
        "columns": 8,
        "rows": 5
       }
      },
      "text/html": [
       "<div>\n",
       "<style scoped>\n",
       "    .dataframe tbody tr th:only-of-type {\n",
       "        vertical-align: middle;\n",
       "    }\n",
       "\n",
       "    .dataframe tbody tr th {\n",
       "        vertical-align: top;\n",
       "    }\n",
       "\n",
       "    .dataframe thead th {\n",
       "        text-align: right;\n",
       "    }\n",
       "</style>\n",
       "<table border=\"1\" class=\"dataframe\">\n",
       "  <thead>\n",
       "    <tr style=\"text-align: right;\">\n",
       "      <th></th>\n",
       "      <th>product_id</th>\n",
       "      <th>product_name</th>\n",
       "      <th>parent_category</th>\n",
       "      <th>subcategory</th>\n",
       "      <th>source</th>\n",
       "      <th>cleaned_product_name</th>\n",
       "      <th>newCat</th>\n",
       "      <th>newSubCat</th>\n",
       "    </tr>\n",
       "  </thead>\n",
       "  <tbody>\n",
       "    <tr>\n",
       "      <th>0</th>\n",
       "      <td>568810</td>\n",
       "      <td>Waitrose Cantaloupe Melon</td>\n",
       "      <td>Fresh &amp; Chilled</td>\n",
       "      <td>Fresh Fruit</td>\n",
       "      <td>Waitrose</td>\n",
       "      <td>Waitrose Cantaloupe Melon</td>\n",
       "      <td></td>\n",
       "      <td></td>\n",
       "    </tr>\n",
       "    <tr>\n",
       "      <th>1</th>\n",
       "      <td>38528</td>\n",
       "      <td>Waitrose Perfectly Ripe Kiwi</td>\n",
       "      <td>Fresh &amp; Chilled</td>\n",
       "      <td>Fresh Fruit</td>\n",
       "      <td>Waitrose</td>\n",
       "      <td>Waitrose Perfectly Ripe Kiwi</td>\n",
       "      <td></td>\n",
       "      <td></td>\n",
       "    </tr>\n",
       "    <tr>\n",
       "      <th>2</th>\n",
       "      <td>55061</td>\n",
       "      <td>Waitrose Seedless Sable Grapes</td>\n",
       "      <td>Fresh &amp; Chilled</td>\n",
       "      <td>Fresh Fruit</td>\n",
       "      <td>Waitrose</td>\n",
       "      <td>Waitrose Seedless Sable Grapes</td>\n",
       "      <td></td>\n",
       "      <td></td>\n",
       "    </tr>\n",
       "    <tr>\n",
       "      <th>3</th>\n",
       "      <td>88903</td>\n",
       "      <td>Essential Fairtrade Bananas</td>\n",
       "      <td>Fresh &amp; Chilled</td>\n",
       "      <td>Fresh Fruit</td>\n",
       "      <td>Waitrose</td>\n",
       "      <td>Essential Fairtrade Bananas</td>\n",
       "      <td></td>\n",
       "      <td></td>\n",
       "    </tr>\n",
       "    <tr>\n",
       "      <th>4</th>\n",
       "      <td>88528</td>\n",
       "      <td>Essential Fairtrade Bananas</td>\n",
       "      <td>Fresh &amp; Chilled</td>\n",
       "      <td>Fresh Fruit</td>\n",
       "      <td>Waitrose</td>\n",
       "      <td>Essential Fairtrade Bananas</td>\n",
       "      <td></td>\n",
       "      <td></td>\n",
       "    </tr>\n",
       "  </tbody>\n",
       "</table>\n",
       "</div>"
      ],
      "text/plain": [
       "   product_id                    product_name  parent_category  subcategory  \\\n",
       "0      568810       Waitrose Cantaloupe Melon  Fresh & Chilled  Fresh Fruit   \n",
       "1       38528    Waitrose Perfectly Ripe Kiwi  Fresh & Chilled  Fresh Fruit   \n",
       "2       55061  Waitrose Seedless Sable Grapes  Fresh & Chilled  Fresh Fruit   \n",
       "3       88903     Essential Fairtrade Bananas  Fresh & Chilled  Fresh Fruit   \n",
       "4       88528     Essential Fairtrade Bananas  Fresh & Chilled  Fresh Fruit   \n",
       "\n",
       "     source            cleaned_product_name newCat newSubCat  \n",
       "0  Waitrose       Waitrose Cantaloupe Melon                   \n",
       "1  Waitrose    Waitrose Perfectly Ripe Kiwi                   \n",
       "2  Waitrose  Waitrose Seedless Sable Grapes                   \n",
       "3  Waitrose     Essential Fairtrade Bananas                   \n",
       "4  Waitrose     Essential Fairtrade Bananas                   "
      ]
     },
     "execution_count": 21,
     "metadata": {},
     "output_type": "execute_result"
    }
   ],
   "source": [
    "combined_df['cleaned_product_name'] = combined_df['product_name'].str.replace(r'\\s+', ' ', regex=True).str.strip()\n",
    "combined_df['newCat'] = ''\n",
    "combined_df['newSubCat'] = ''\n",
    "\n",
    "combined_df.head()"
   ]
  },
  {
   "cell_type": "code",
   "execution_count": 22,
   "id": "a31ecc19",
   "metadata": {},
   "outputs": [],
   "source": [
    "grouped_df = combined_df.groupby(['source', 'parent_category', 'subcategory'])['product_id'].count().reset_index()\n",
    "grouped_df.columns = ['source', 'parent_category', 'subcategory', 'Answer']\n",
    "grouped_df.to_csv('./combined_grouped.csv', index=False)"
   ]
  },
  {
   "cell_type": "code",
   "execution_count": 25,
   "id": "a70aedaa",
   "metadata": {},
   "outputs": [],
   "source": [
    "mapping_df = pd.read_csv('./CategoryMapping.csv')"
   ]
  },
  {
   "cell_type": "code",
   "execution_count": 28,
   "id": "39ff820e",
   "metadata": {},
   "outputs": [
    {
     "name": "stdout",
     "output_type": "stream",
     "text": [
      "Categories created: 12\n",
      "Subcategories created: 163\n",
      "\n",
      "Categories sample:\n",
      "                                     Id                       Name\n",
      "0  3d6bc8ae-0b9b-4ded-badc-c4047b39e081             Baby & Toddler\n",
      "1  21373bc4-0361-452d-9a05-a6d9e81a3f3a                     Bakery\n",
      "2  95ba94ba-e070-4350-977e-95b732ed3021       Beer, Wine & Spirits\n",
      "3  b451869b-93c4-4b9d-ab04-5aa05e72a319  Tea, Coffee & Soft Drinks\n",
      "4  9602ff1f-7545-480f-913d-bd929004af34            Treats & Snacks\n",
      "\n",
      "Subcategories sample:\n",
      "                                     Id                   Name  \\\n",
      "0  6aed5989-9de8-4afd-a7c3-0d46a049d690              Baby Food   \n",
      "1  e213fd22-9874-4493-bee2-2f84845e044e    Baby Milk & Formula   \n",
      "2  67145a1b-788f-4b67-b1a4-c27f187e5804        Baby Toiletries   \n",
      "3  1f9a6397-8de5-4bd2-abdc-1df19a0e0ec8  Baby Wipes & Changing   \n",
      "4  0e9eef1b-9af1-4190-a418-ca2ac9aae244    Feeding Accessories   \n",
      "\n",
      "                       ParentCategoryId  \n",
      "0  3d6bc8ae-0b9b-4ded-badc-c4047b39e081  \n",
      "1  3d6bc8ae-0b9b-4ded-badc-c4047b39e081  \n",
      "2  3d6bc8ae-0b9b-4ded-badc-c4047b39e081  \n",
      "3  3d6bc8ae-0b9b-4ded-badc-c4047b39e081  \n",
      "4  3d6bc8ae-0b9b-4ded-badc-c4047b39e081  \n"
     ]
    }
   ],
   "source": [
    "import uuid\n",
    "\n",
    "# Create a distinct list of categories from the NewCat column, excluding 'Drop'\n",
    "categories_df = mapping_df[mapping_df['NewCat'] != 'Drop']['NewCat'].drop_duplicates().reset_index(drop=True)\n",
    "\n",
    "# Create a DataFrame with CategoryId and CategoryName\n",
    "cat_df = pd.DataFrame({\n",
    "    'Id': [str(uuid.uuid4()) for _ in range(len(categories_df))],\n",
    "    'Name': categories_df\n",
    "})\n",
    "\n",
    "# Create a mapping dictionary for category names to their GUIDs\n",
    "cat_mapping = dict(zip(cat_df['Name'], cat_df['Id']))\n",
    "\n",
    "# Create a distinct list of subcategories from the NewSubCat column, excluding rows where NewCat is 'Drop'\n",
    "subcategories_df = mapping_df[mapping_df['NewCat'] != 'Drop'][['NewCat', 'NewSubCat']].drop_duplicates().reset_index(drop=True)\n",
    "\n",
    "# Create a DataFrame with SubCategoryId, SubCategoryName and ParentCategoryId\n",
    "subcat_df = pd.DataFrame({\n",
    "    'Id': [str(uuid.uuid4()) for _ in range(len(subcategories_df))],\n",
    "    'Name': subcategories_df['NewSubCat'],\n",
    "    'ParentCategoryId': subcategories_df['NewCat'].map(cat_mapping)\n",
    "})\n",
    "\n",
    "# Save to CSV files\n",
    "cat_df.to_csv('./categories.csv', index=False)\n",
    "subcat_df.to_csv('./subcategories.csv', index=False)\n",
    "\n",
    "print(f\"Categories created: {len(cat_df)}\")\n",
    "print(f\"Subcategories created: {len(subcat_df)}\")\n",
    "\n",
    "# Display samples of both dataframes\n",
    "print(\"\\nCategories sample:\")\n",
    "print(cat_df.head())\n",
    "\n",
    "print(\"\\nSubcategories sample:\")\n",
    "print(subcat_df.head())"
   ]
  }
 ],
 "metadata": {
  "kernelspec": {
   "display_name": ".venv",
   "language": "python",
   "name": "python3"
  },
  "language_info": {
   "codemirror_mode": {
    "name": "ipython",
    "version": 3
   },
   "file_extension": ".py",
   "mimetype": "text/x-python",
   "name": "python",
   "nbconvert_exporter": "python",
   "pygments_lexer": "ipython3",
   "version": "3.12.10"
  }
 },
 "nbformat": 4,
 "nbformat_minor": 5
}
