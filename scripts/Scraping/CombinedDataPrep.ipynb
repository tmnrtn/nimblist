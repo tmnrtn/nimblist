{
 "cells": [
  {
   "cell_type": "code",
   "execution_count": 2,
   "id": "4c08b201",
   "metadata": {},
   "outputs": [],
   "source": [
    "import pandas as pd\n",
    "import numpy as np"
   ]
  },
  {
   "cell_type": "code",
   "execution_count": 3,
   "id": "a31ecc19",
   "metadata": {},
   "outputs": [],
   "source": [
    "combined_df = pd.read_csv('./combined_cleaned.csv')"
   ]
  },
  {
   "cell_type": "code",
   "execution_count": 5,
   "id": "a70aedaa",
   "metadata": {},
   "outputs": [],
   "source": [
    "mapping_df = pd.read_csv('./CategoryMapping.csv')"
   ]
  },
  {
   "cell_type": "code",
   "execution_count": 6,
   "id": "39ff820e",
   "metadata": {},
   "outputs": [
    {
     "name": "stdout",
     "output_type": "stream",
     "text": [
      "Categories created: 12\n",
      "Subcategories created: 145\n",
      "\n",
      "Categories sample:\n",
      "                                     Id                  Name\n",
      "0  27dbcc1a-5d2b-4a40-9e24-50fbfce59aae       Fresh & Chilled\n",
      "1  a2f0ca2b-9b15-458c-8cf2-310f69eb5899       Treats & Snacks\n",
      "2  4a4df996-2d61-424d-9af1-7fdfef76e63e                Bakery\n",
      "3  96607918-0fb6-406e-8198-292c5febc1fb         Food Cupboard\n",
      "4  85ca5c67-e914-4edf-b7b4-02bd515ad729  Beer, Wine & Spirits\n",
      "\n",
      "Subcategories sample:\n",
      "                                     Id                   Name  \\\n",
      "0  9d7a8c89-f46d-4e55-8fd4-0b3d81e23415       Yogurts (Snacks)   \n",
      "1  a352fe8c-cd12-4b79-a934-6ecf574dbbc5       Yogurts (Snacks)   \n",
      "2  00c17cf2-1db4-494a-bb15-e5d1b1d42df0     Wraps & Flatbreads   \n",
      "3  d760320f-113a-4c30-bd99-9b190ed70b65  World Foods (Chilled)   \n",
      "4  2f0495b3-3a8f-490e-9577-5233612efea6  World Foods (Chilled)   \n",
      "\n",
      "                       ParentCategoryId  \n",
      "0  27dbcc1a-5d2b-4a40-9e24-50fbfce59aae  \n",
      "1  a2f0ca2b-9b15-458c-8cf2-310f69eb5899  \n",
      "2  4a4df996-2d61-424d-9af1-7fdfef76e63e  \n",
      "3  96607918-0fb6-406e-8198-292c5febc1fb  \n",
      "4  27dbcc1a-5d2b-4a40-9e24-50fbfce59aae  \n"
     ]
    }
   ],
   "source": [
    "import uuid\n",
    "\n",
    "# Create a distinct list of categories from the NewCat column, excluding 'Drop'\n",
    "categories_df = mapping_df[mapping_df['NewCat'] != 'Drop']['NewCat'].drop_duplicates().reset_index(drop=True)\n",
    "\n",
    "# Create a DataFrame with CategoryId and CategoryName\n",
    "cat_df = pd.DataFrame({\n",
    "    'Id': [str(uuid.uuid4()) for _ in range(len(categories_df))],\n",
    "    'Name': categories_df\n",
    "})\n",
    "\n",
    "# Create a mapping dictionary for category names to their GUIDs\n",
    "cat_mapping = dict(zip(cat_df['Name'], cat_df['Id']))\n",
    "\n",
    "# Create a distinct list of subcategories from the NewSubCat column, excluding rows where NewCat is 'Drop'\n",
    "subcategories_df = mapping_df[mapping_df['NewCat'] != 'Drop'][['NewCat', 'NewSubCat']].drop_duplicates().reset_index(drop=True)\n",
    "\n",
    "# Create a DataFrame with SubCategoryId, SubCategoryName and ParentCategoryId\n",
    "subcat_df = pd.DataFrame({\n",
    "    'Id': [str(uuid.uuid4()) for _ in range(len(subcategories_df))],\n",
    "    'Name': subcategories_df['NewSubCat'],\n",
    "    'ParentCategoryId': subcategories_df['NewCat'].map(cat_mapping)\n",
    "})\n",
    "\n",
    "# Save to CSV files\n",
    "cat_df.to_csv('./categories.csv', index=False)\n",
    "cat_df.to_csv('../../src/nimblist/Nimblist.data/Data/categories.csv', index=False)\n",
    "subcat_df.to_csv('./subcategories.csv', index=False)\n",
    "subcat_df.to_csv('../../src/nimblist/Nimblist.data/Data/subcategories.csv', index=False)\n",
    "\n",
    "print(f\"Categories created: {len(cat_df)}\")\n",
    "print(f\"Subcategories created: {len(subcat_df)}\")\n",
    "\n",
    "# Display samples of both dataframes\n",
    "print(\"\\nCategories sample:\")\n",
    "print(cat_df.head())\n",
    "\n",
    "print(\"\\nSubcategories sample:\")\n",
    "print(subcat_df.head())"
   ]
  },
  {
   "cell_type": "code",
   "execution_count": 9,
   "id": "a8ff468a",
   "metadata": {},
   "outputs": [
    {
     "name": "stdout",
     "output_type": "stream",
     "text": [
      "Number of products mapped to categories: 58121\n",
      "Number of products mapped to 'Drop': 10288\n"
     ]
    }
   ],
   "source": [
    "# Create a mapping dictionary for category and subcategory mapping\n",
    "category_mapping = {}\n",
    "for _, row in mapping_df.iterrows():\n",
    "    key = (row['source'], row['parent_category'], row['subcategory'])\n",
    "    value = (row['NewCat'], row['NewSubCat'])\n",
    "    category_mapping[key] = value\n",
    "\n",
    "# Apply the mapping to the combined_df\n",
    "for index, row in combined_df.iterrows():\n",
    "    key = (row['source'], row['parent_category'], row['subcategory'])\n",
    "    if key in category_mapping:\n",
    "        combined_df.at[index, 'newCat'] = category_mapping[key][0]\n",
    "        combined_df.at[index, 'newSubCat'] = category_mapping[key][1]\n",
    "\n",
    "# Display the first few rows to verify\n",
    "combined_df.head()\n",
    "\n",
    "# Count products by new categories\n",
    "print(f\"Number of products mapped to categories: {combined_df['newCat'].replace('', 0).replace(0, np.nan).count()}\")\n",
    "print(f\"Number of products mapped to 'Drop': {(combined_df['newCat'] == 'Drop').sum()}\")"
   ]
  },
  {
   "cell_type": "code",
   "execution_count": 10,
   "id": "d2762052",
   "metadata": {},
   "outputs": [
    {
     "name": "stdout",
     "output_type": "stream",
     "text": [
      "Most common words in product names:\n",
      "[('g', 15256), ('tesco', 7794), ('ml', 7177), ('s', 4294), ('waitrose', 3774), ('pack', 3560), ('x', 3397), ('free', 2619), ('f', 2552), ('chocolate', 2518), ('organic', 2380), ('chicken', 2068), ('finest', 1755), ('essential', 1697), ('in', 1605), ('no', 1593), ('milk', 1543), ('l', 1501), ('with', 1483), ('cheese', 1456), ('cream', 1430), ('white', 1390), ('original', 1357), ('home', 1338), ('fruit', 1073), ('drink', 1031), ('sauce', 996), ('duchy', 980), ('the', 977), ('black', 967)]\n"
     ]
    }
   ],
   "source": [
    "from collections import Counter\n",
    "import re\n",
    "\n",
    "# 1. First, let's find the most commonly used words in the cleaned_product_name column\n",
    "\n",
    "# Extract all words from cleaned_product_name and count them\n",
    "all_words = ' '.join(combined_df['cleaned_product_name']).lower()\n",
    "# Remove punctuation and numbers\n",
    "all_words = re.sub(r'[^\\w\\s]', ' ', all_words)\n",
    "all_words = re.sub(r'\\d+', ' ', all_words)\n",
    "# Split into words\n",
    "words_list = all_words.split()\n",
    "# Count occurrences\n",
    "word_counts = Counter(words_list)\n",
    "\n",
    "# Display the 30 most common words\n",
    "print(\"Most common words in product names:\")\n",
    "print(word_counts.most_common(30))\n",
    "\n"
   ]
  },
  {
   "cell_type": "code",
   "execution_count": 11,
   "id": "d652010a",
   "metadata": {},
   "outputs": [
    {
     "name": "stdout",
     "output_type": "stream",
     "text": [
      "\n",
      "Sample results after brand name removal:\n",
      "              cleaned_product_name     generic_product_name\n",
      "0        Waitrose Cantaloupe Melon         Cantaloupe melon\n",
      "1     Waitrose Perfectly Ripe Kiwi      Perfectly ripe kiwi\n",
      "2   Waitrose Seedless Sable Grapes    Seedless sable grapes\n",
      "3      Essential Fairtrade Bananas        Fairtrade bananas\n",
      "4      Essential Fairtrade Bananas        Fairtrade bananas\n",
      "5            Waitrose Loose Lemons             Loose lemons\n",
      "6          Perfectly Ripe Avocados  Perfectly ripe avocados\n",
      "7   Waitrose Seedless Easy Peelers    Seedless easy peelers\n",
      "8  Waitrose Perfectly Ripe Avocado   Perfectly ripe avocado\n",
      "9     Waitrose Red Seedless Grapes      Red seedless grapes\n",
      "\n",
      "Number of product names modified: 58006 out of 58121 (99.8%)\n"
     ]
    }
   ],
   "source": [
    "# 2. Create a function to remove specified words from product names\n",
    "def clean_brand_names(product_name, brands_to_remove):\n",
    "    \"\"\"\n",
    "    Remove brand names and common words from product names\n",
    "    \"\"\"\n",
    "    # Convert to lowercase for case-insensitive matching\n",
    "    product_name_lower = product_name.lower()\n",
    "    \n",
    "    # Create pattern with word boundaries to match whole words only\n",
    "    pattern = r'\\b(' + '|'.join(brands_to_remove) + r')\\b'\n",
    "    \n",
    "    # Replace matches with empty string\n",
    "    cleaned = re.sub(pattern, '', product_name_lower, flags=re.IGNORECASE)\n",
    "    \n",
    "    # Clean up extra spaces\n",
    "    cleaned = re.sub(r'\\s+', ' ', cleaned).strip()\n",
    "    \n",
    "    # Capitalize first letter\n",
    "    if cleaned:\n",
    "        cleaned = cleaned[0].upper() + cleaned[1:] if len(cleaned) > 1 else cleaned.upper()\n",
    "    \n",
    "    return cleaned\n",
    "\n",
    "# List of brand names and common words to remove\n",
    "brands_to_remove = ['waitrose', 'tesco', 'essential', 'finest']\n",
    "\n",
    "# Apply the function to create a new column\n",
    "combined_df['generic_product_name'] = combined_df['cleaned_product_name'].apply(\n",
    "    lambda x: clean_brand_names(x, brands_to_remove)\n",
    ")\n",
    "\n",
    "# Display sample results\n",
    "print(\"\\nSample results after brand name removal:\")\n",
    "sample_df = combined_df[['cleaned_product_name', 'generic_product_name']].head(10)\n",
    "print(sample_df)\n",
    "\n",
    "# Count how many products were affected\n",
    "changed_count = (combined_df['cleaned_product_name'] != combined_df['generic_product_name']).sum()\n",
    "print(f\"\\nNumber of product names modified: {changed_count} out of {len(combined_df)} ({changed_count/len(combined_df)*100:.1f}%)\")"
   ]
  },
  {
   "cell_type": "code",
   "execution_count": 12,
   "id": "50da3e80",
   "metadata": {},
   "outputs": [
    {
     "name": "stdout",
     "output_type": "stream",
     "text": [
      "Number of rows after removing 'Drop' category: 47833\n"
     ]
    }
   ],
   "source": [
    "# Filter out rows where newCat is \"Drop\"\n",
    "combined_df = combined_df[combined_df['newCat'] != \"Drop\"]\n",
    "\n",
    "# Reset the index after filtering\n",
    "combined_df = combined_df.reset_index(drop=True)\n",
    "\n",
    "# Display the number of rows after filtering\n",
    "print(f\"Number of rows after removing 'Drop' category: {len(combined_df)}\")"
   ]
  },
  {
   "cell_type": "code",
   "execution_count": 13,
   "id": "7217cc2f",
   "metadata": {},
   "outputs": [
    {
     "name": "stdout",
     "output_type": "stream",
     "text": [
      "Number of duplicate generic product names: 9170\n",
      "Original number of products: 47833\n",
      "Number of unique products after deduplication: 45285\n",
      "Number of duplicates removed: 2548\n",
      "\n",
      "Source distribution after deduplication:\n",
      "source\n",
      "Tesco       28503\n",
      "Waitrose    16782\n",
      "Name: count, dtype: int64\n"
     ]
    },
    {
     "name": "stderr",
     "output_type": "stream",
     "text": [
      "C:\\Users\\ThomasNorton\\AppData\\Local\\Temp\\ipykernel_54840\\11806896.py:15: SettingWithCopyWarning: \n",
      "A value is trying to be set on a copy of a slice from a DataFrame\n",
      "\n",
      "See the caveats in the documentation: https://pandas.pydata.org/pandas-docs/stable/user_guide/indexing.html#returning-a-view-versus-a-copy\n",
      "  combined_df_unique.drop('product_category_key', axis=1, inplace=True)\n"
     ]
    },
    {
     "data": {
      "application/vnd.microsoft.datawrangler.viewer.v0+json": {
       "columns": [
        {
         "name": "index",
         "rawType": "int64",
         "type": "integer"
        },
        {
         "name": "product_id",
         "rawType": "int64",
         "type": "integer"
        },
        {
         "name": "product_name",
         "rawType": "object",
         "type": "string"
        },
        {
         "name": "parent_category",
         "rawType": "object",
         "type": "string"
        },
        {
         "name": "subcategory",
         "rawType": "object",
         "type": "string"
        },
        {
         "name": "source",
         "rawType": "object",
         "type": "string"
        },
        {
         "name": "cleaned_product_name",
         "rawType": "object",
         "type": "string"
        },
        {
         "name": "newCat",
         "rawType": "object",
         "type": "string"
        },
        {
         "name": "newSubCat",
         "rawType": "object",
         "type": "string"
        },
        {
         "name": "generic_product_name",
         "rawType": "object",
         "type": "string"
        }
       ],
       "conversionMethod": "pd.DataFrame",
       "ref": "02e2b764-3dba-4ea9-aa86-ff5a8bbe3b56",
       "rows": [
        [
         "0",
         "568810",
         "Waitrose Cantaloupe Melon",
         "Fresh & Chilled",
         "Fresh Fruit",
         "Waitrose",
         "Waitrose Cantaloupe Melon",
         "Fresh & Chilled",
         "Fresh Fruit",
         "Cantaloupe melon"
        ],
        [
         "1",
         "38528",
         "Waitrose Perfectly Ripe Kiwi",
         "Fresh & Chilled",
         "Fresh Fruit",
         "Waitrose",
         "Waitrose Perfectly Ripe Kiwi",
         "Fresh & Chilled",
         "Fresh Fruit",
         "Perfectly ripe kiwi"
        ],
        [
         "2",
         "55061",
         "Waitrose Seedless Sable Grapes",
         "Fresh & Chilled",
         "Fresh Fruit",
         "Waitrose",
         "Waitrose Seedless Sable Grapes",
         "Fresh & Chilled",
         "Fresh Fruit",
         "Seedless sable grapes"
        ],
        [
         "3",
         "88903",
         "Essential Fairtrade Bananas",
         "Fresh & Chilled",
         "Fresh Fruit",
         "Waitrose",
         "Essential Fairtrade Bananas",
         "Fresh & Chilled",
         "Fresh Fruit",
         "Fairtrade bananas"
        ],
        [
         "5",
         "88411",
         "Waitrose Loose Lemons",
         "Fresh & Chilled",
         "Fresh Fruit",
         "Waitrose",
         "Waitrose Loose Lemons",
         "Fresh & Chilled",
         "Fresh Fruit",
         "Loose lemons"
        ]
       ],
       "shape": {
        "columns": 9,
        "rows": 5
       }
      },
      "text/html": [
       "<div>\n",
       "<style scoped>\n",
       "    .dataframe tbody tr th:only-of-type {\n",
       "        vertical-align: middle;\n",
       "    }\n",
       "\n",
       "    .dataframe tbody tr th {\n",
       "        vertical-align: top;\n",
       "    }\n",
       "\n",
       "    .dataframe thead th {\n",
       "        text-align: right;\n",
       "    }\n",
       "</style>\n",
       "<table border=\"1\" class=\"dataframe\">\n",
       "  <thead>\n",
       "    <tr style=\"text-align: right;\">\n",
       "      <th></th>\n",
       "      <th>product_id</th>\n",
       "      <th>product_name</th>\n",
       "      <th>parent_category</th>\n",
       "      <th>subcategory</th>\n",
       "      <th>source</th>\n",
       "      <th>cleaned_product_name</th>\n",
       "      <th>newCat</th>\n",
       "      <th>newSubCat</th>\n",
       "      <th>generic_product_name</th>\n",
       "    </tr>\n",
       "  </thead>\n",
       "  <tbody>\n",
       "    <tr>\n",
       "      <th>0</th>\n",
       "      <td>568810</td>\n",
       "      <td>Waitrose Cantaloupe Melon</td>\n",
       "      <td>Fresh &amp; Chilled</td>\n",
       "      <td>Fresh Fruit</td>\n",
       "      <td>Waitrose</td>\n",
       "      <td>Waitrose Cantaloupe Melon</td>\n",
       "      <td>Fresh &amp; Chilled</td>\n",
       "      <td>Fresh Fruit</td>\n",
       "      <td>Cantaloupe melon</td>\n",
       "    </tr>\n",
       "    <tr>\n",
       "      <th>1</th>\n",
       "      <td>38528</td>\n",
       "      <td>Waitrose Perfectly Ripe Kiwi</td>\n",
       "      <td>Fresh &amp; Chilled</td>\n",
       "      <td>Fresh Fruit</td>\n",
       "      <td>Waitrose</td>\n",
       "      <td>Waitrose Perfectly Ripe Kiwi</td>\n",
       "      <td>Fresh &amp; Chilled</td>\n",
       "      <td>Fresh Fruit</td>\n",
       "      <td>Perfectly ripe kiwi</td>\n",
       "    </tr>\n",
       "    <tr>\n",
       "      <th>2</th>\n",
       "      <td>55061</td>\n",
       "      <td>Waitrose Seedless Sable Grapes</td>\n",
       "      <td>Fresh &amp; Chilled</td>\n",
       "      <td>Fresh Fruit</td>\n",
       "      <td>Waitrose</td>\n",
       "      <td>Waitrose Seedless Sable Grapes</td>\n",
       "      <td>Fresh &amp; Chilled</td>\n",
       "      <td>Fresh Fruit</td>\n",
       "      <td>Seedless sable grapes</td>\n",
       "    </tr>\n",
       "    <tr>\n",
       "      <th>3</th>\n",
       "      <td>88903</td>\n",
       "      <td>Essential Fairtrade Bananas</td>\n",
       "      <td>Fresh &amp; Chilled</td>\n",
       "      <td>Fresh Fruit</td>\n",
       "      <td>Waitrose</td>\n",
       "      <td>Essential Fairtrade Bananas</td>\n",
       "      <td>Fresh &amp; Chilled</td>\n",
       "      <td>Fresh Fruit</td>\n",
       "      <td>Fairtrade bananas</td>\n",
       "    </tr>\n",
       "    <tr>\n",
       "      <th>5</th>\n",
       "      <td>88411</td>\n",
       "      <td>Waitrose Loose Lemons</td>\n",
       "      <td>Fresh &amp; Chilled</td>\n",
       "      <td>Fresh Fruit</td>\n",
       "      <td>Waitrose</td>\n",
       "      <td>Waitrose Loose Lemons</td>\n",
       "      <td>Fresh &amp; Chilled</td>\n",
       "      <td>Fresh Fruit</td>\n",
       "      <td>Loose lemons</td>\n",
       "    </tr>\n",
       "  </tbody>\n",
       "</table>\n",
       "</div>"
      ],
      "text/plain": [
       "   product_id                    product_name  parent_category  subcategory  \\\n",
       "0      568810       Waitrose Cantaloupe Melon  Fresh & Chilled  Fresh Fruit   \n",
       "1       38528    Waitrose Perfectly Ripe Kiwi  Fresh & Chilled  Fresh Fruit   \n",
       "2       55061  Waitrose Seedless Sable Grapes  Fresh & Chilled  Fresh Fruit   \n",
       "3       88903     Essential Fairtrade Bananas  Fresh & Chilled  Fresh Fruit   \n",
       "5       88411           Waitrose Loose Lemons  Fresh & Chilled  Fresh Fruit   \n",
       "\n",
       "     source            cleaned_product_name           newCat    newSubCat  \\\n",
       "0  Waitrose       Waitrose Cantaloupe Melon  Fresh & Chilled  Fresh Fruit   \n",
       "1  Waitrose    Waitrose Perfectly Ripe Kiwi  Fresh & Chilled  Fresh Fruit   \n",
       "2  Waitrose  Waitrose Seedless Sable Grapes  Fresh & Chilled  Fresh Fruit   \n",
       "3  Waitrose     Essential Fairtrade Bananas  Fresh & Chilled  Fresh Fruit   \n",
       "5  Waitrose           Waitrose Loose Lemons  Fresh & Chilled  Fresh Fruit   \n",
       "\n",
       "    generic_product_name  \n",
       "0       Cantaloupe melon  \n",
       "1    Perfectly ripe kiwi  \n",
       "2  Seedless sable grapes  \n",
       "3      Fairtrade bananas  \n",
       "5           Loose lemons  "
      ]
     },
     "execution_count": 13,
     "metadata": {},
     "output_type": "execute_result"
    }
   ],
   "source": [
    "# Remove duplicates from combined_df based on generic_product_name, newCat, and newSubCat\n",
    "# This helps to eliminate products that are essentially the same but from different sources\n",
    "\n",
    "# First, let's check how many duplicates we have based on generic_product_name\n",
    "duplicate_count = combined_df.duplicated(subset=['generic_product_name']).sum()\n",
    "print(f\"Number of duplicate generic product names: {duplicate_count}\")\n",
    "\n",
    "# Create a new column that combines product name and category for better deduplication\n",
    "combined_df['product_category_key'] = combined_df['generic_product_name'] + ' | ' + combined_df['newCat'] + ' | ' + combined_df['newSubCat']\n",
    "\n",
    "# Now deduplicate based on this combined key\n",
    "combined_df_unique = combined_df.drop_duplicates(subset=['product_category_key'], keep='first')\n",
    "\n",
    "# Remove the temporary column as it's no longer needed\n",
    "combined_df_unique.drop('product_category_key', axis=1, inplace=True)\n",
    "\n",
    "# Display information about the deduplication\n",
    "print(f\"Original number of products: {len(combined_df)}\")\n",
    "print(f\"Number of unique products after deduplication: {len(combined_df_unique)}\")\n",
    "print(f\"Number of duplicates removed: {len(combined_df) - len(combined_df_unique)}\")\n",
    "\n",
    "# Display distribution by source after deduplication\n",
    "source_counts = combined_df_unique['source'].value_counts()\n",
    "print(\"\\nSource distribution after deduplication:\")\n",
    "print(source_counts)\n",
    "\n",
    "# Update the combined_df with the deduplicated version\n",
    "combined_df = combined_df_unique\n",
    "\n",
    "# Display sample rows from the deduplicated dataframe\n",
    "combined_df.head()"
   ]
  },
  {
   "cell_type": "code",
   "execution_count": 15,
   "id": "60e2bdc2",
   "metadata": {},
   "outputs": [],
   "source": [
    "combined_df.to_csv('./combined_cleaned.csv', index=False)\n",
    "combined_df.to_csv('../ClassificationModel/combined_cleaned.csv', index=False)"
   ]
  }
 ],
 "metadata": {
  "kernelspec": {
   "display_name": ".venv",
   "language": "python",
   "name": "python3"
  },
  "language_info": {
   "codemirror_mode": {
    "name": "ipython",
    "version": 3
   },
   "file_extension": ".py",
   "mimetype": "text/x-python",
   "name": "python",
   "nbconvert_exporter": "python",
   "pygments_lexer": "ipython3",
   "version": "3.12.10"
  }
 },
 "nbformat": 4,
 "nbformat_minor": 5
}
